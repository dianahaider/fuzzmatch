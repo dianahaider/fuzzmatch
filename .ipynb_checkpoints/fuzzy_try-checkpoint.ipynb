{
 "cells": [
  {
   "cell_type": "code",
   "execution_count": 1,
   "metadata": {},
   "outputs": [],
   "source": [
    "import Levenshtein as lev\n",
    "import os \n",
    "import sys\n",
    "import glob"
   ]
  },
  {
   "cell_type": "code",
   "execution_count": null,
   "metadata": {},
   "outputs": [],
   "source": [
    "#name directory you wanna walk\n",
    "walk_dir = \"/tables/repseq\"\n",
    "\n",
    "\n",
    "for root, subdirs, files in os.walk(walk_dir):\n",
    "    print(root)\n",
    "    list_file_path = os.path.join(root, 'my-directory-list.txt')\n",
    "    print('list_file_path = ' + list_file_path)\n",
    "    for filename in files:\n",
    "        file_path = os.path.join(root, filename)\n",
    "    print('\\t- file %s (full path: %s)' % (filename, file_path))"
   ]
  },
  {
   "cell_type": "code",
   "execution_count": null,
   "metadata": {},
   "outputs": [],
   "source": [
    "import os\n",
    "\n",
    "for subdir, dirs, files in os.walk(rootdir):\n",
    "    for file in files:\n",
    "        #print os.path.join(subdir, file)\n",
    "        filepath = subdir + os.sep + file\n",
    "\n",
    "        if filepath.endswith(\".asm\"):\n",
    "            print (filepath)"
   ]
  }
 ],
 "metadata": {
  "kernelspec": {
   "display_name": "Python 3",
   "language": "python",
   "name": "python3"
  },
  "language_info": {
   "codemirror_mode": {
    "name": "ipython",
    "version": 3
   },
   "file_extension": ".py",
   "mimetype": "text/x-python",
   "name": "python",
   "nbconvert_exporter": "python",
   "pygments_lexer": "ipython3",
   "version": "3.7.4"
  }
 },
 "nbformat": 4,
 "nbformat_minor": 2
}
