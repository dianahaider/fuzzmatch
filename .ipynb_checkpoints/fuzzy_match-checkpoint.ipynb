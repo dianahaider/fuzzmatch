{
 "cells": [
  {
   "cell_type": "code",
   "execution_count": 2,
   "metadata": {},
   "outputs": [],
   "source": [
    "import Levenshtein as lev\n",
    "import os \n",
    "import sys\n",
    "import glob"
   ]
  },
  {
   "cell_type": "code",
   "execution_count": null,
   "metadata": {},
   "outputs": [],
   "source": [
    "#name directory you wanna walk\n",
    "walk_dir = \"/tables/repseq\"\n",
    "\n",
    "\n",
    "for root, subdirs, files in os.walk(walk_dir):\n",
    "    print('--\\nroot = ' + root)\n",
    "    list_file_path = os.path.join(root, 'my-directory-list.txt')\n",
    "    print('list_file_path = ' + list_file_path)\n",
    "\n",
    "    with open(list_file_path, 'wb') as list_file:\n",
    "        for subdir in subdirs:\n",
    "            print('\\t- subdirectory ' + subdir)\n",
    "\n",
    "        for filename in files:\n",
    "            file_path = os.path.join(root, filename)\n",
    "\n",
    "            print('\\t- file %s (full path: %s)' % (filename, file_path))\n",
    "\n",
    "            with open(file_path, 'rb') as f:\n",
    "                f_content = f.read()\n",
    "                list_file.write(('The file %s contains:\\n' % filename).encode('utf-8'))\n",
    "                list_file.write(f_content)\n",
    "                list_file.write(b'\\n')\n"
   ]
  },
  {
   "cell_type": "code",
   "execution_count": null,
   "metadata": {},
   "outputs": [],
   "source": []
  }
 ],
 "metadata": {
  "kernelspec": {
   "display_name": "Python 3",
   "language": "python",
   "name": "python3"
  },
  "language_info": {
   "codemirror_mode": {
    "name": "ipython",
    "version": 3
   },
   "file_extension": ".py",
   "mimetype": "text/x-python",
   "name": "python",
   "nbconvert_exporter": "python",
   "pygments_lexer": "ipython3",
   "version": "3.7.3"
  }
 },
 "nbformat": 4,
 "nbformat_minor": 2
}
